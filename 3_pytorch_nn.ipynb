{
 "cells": [
  {
   "cell_type": "code",
   "execution_count": 1,
   "metadata": {},
   "outputs": [
    {
     "name": "stderr",
     "output_type": "stream",
     "text": [
      "/var/folders/xz/5bn1vdj146n6586g9r465k_40000gn/T/ipykernel_270/4013270058.py:9: DtypeWarning: Columns (65) have mixed types. Specify dtype option on import or set low_memory=False.\n",
      "  data = pd.read_csv('data/EPC_Catalonia.csv')\n"
     ]
    }
   ],
   "source": [
    "import torch\n",
    "import torch.nn as nn\n",
    "import torch.optim as optim\n",
    "from sklearn.preprocessing import StandardScaler, LabelEncoder\n",
    "from torch.utils.data import DataLoader, TensorDataset, random_split\n",
    "import pandas as pd\n",
    "\n",
    "\n",
    "data = pd.read_csv('data/EPC_Catalonia.csv')"
   ]
  },
  {
   "cell_type": "code",
   "execution_count": 2,
   "metadata": {},
   "outputs": [],
   "source": [
    "df = data.copy()\n",
    "# Define target variable (Energy Consumption)\n",
    "target = \"Consum d'energia final\"\n",
    "\n",
    "numeric_features = [\n",
    "    \"METRES_CADASTRE\", \"Energia primària no renovable\", \"Emissions de CO2\",\n",
    "    \"Energia calefacció\", \"Energia refrigeració\", \"Energia calefacció demanda\", \"VALOR AILLAMENTS\",\n",
    "    \"Cost anual aproximat d'energia per habitatge\", \"VALOR FINESTRES\"\n",
    "]\n",
    "\n",
    "# Categorical features (to encode)\n",
    "categorical_features = [\n",
    "    \"POBLACIO\",  \"Qualificació de consum d'energia primaria no renovable\",\n",
    "    \"VEHICLE ELECTRIC\", \"SISTEMA BIOMASSA\", \"REHABILITACIO_ENERGETICA\"]\n",
    "\n",
    "# Convert binary categorical features to numeric (Yes/No -> 1/0)\n",
    "binary_features = [\"VEHICLE ELECTRIC\", \n",
    "                   \"SISTEMA BIOMASSA\",  \n",
    "                   \"REHABILITACIO_ENERGETICA\"]\n",
    "\n",
    "for col in binary_features:\n",
    "    df[col] = df[col].str.lower().map({'si': 1, 'no': 0})   \n",
    "\n",
    "df = df[numeric_features + categorical_features + [target]].dropna()"
   ]
  },
  {
   "cell_type": "code",
   "execution_count": 3,
   "metadata": {},
   "outputs": [],
   "source": [
    "# Encode categorical features\n",
    "label_encoders = {}\n",
    "for cat in categorical_features:\n",
    "    le = LabelEncoder()\n",
    "    df[cat] = le.fit_transform(df[cat])\n",
    "    label_encoders[cat] = le  # Save for later\n",
    "df = df[numeric_features + categorical_features + [target]].dropna()\n",
    "\n",
    "# Normalize numerical features\n",
    "scaler = StandardScaler()\n",
    "df[numeric_features] = scaler.fit_transform(df[numeric_features])\n",
    "\n",
    "X = df.drop(columns=[target]).values\n",
    "y = df[target].values.reshape(-1,1)"
   ]
  },
  {
   "cell_type": "code",
   "execution_count": 4,
   "metadata": {},
   "outputs": [],
   "source": [
    "# Convert to PyTorch tensors\n",
    "X_tensor = torch.tensor(X, dtype=torch.float32)\n",
    "y_tensor = torch.tensor(y, dtype=torch.float32)\n",
    "\n",
    "# Create dataset\n",
    "dataset = TensorDataset(X_tensor, y_tensor)\n",
    "\n",
    "# Split into train and test (80-20)\n",
    "train_size = int(0.8 * len(dataset))\n",
    "test_size = len(dataset) - train_size\n",
    "train_dataset, test_dataset = random_split(dataset, [train_size, test_size])\n",
    "\n",
    "# Create dataloaders\n",
    "train_loader = DataLoader(train_dataset, batch_size=64, shuffle=True)\n",
    "test_loader = DataLoader(test_dataset, batch_size=64, shuffle=False)"
   ]
  },
  {
   "cell_type": "code",
   "execution_count": 8,
   "metadata": {},
   "outputs": [
    {
     "name": "stdout",
     "output_type": "stream",
     "text": [
      "Epoch [0/100], Loss: 5928.1077\n",
      "Epoch [10/100], Loss: 4503.3063\n",
      "Epoch [20/100], Loss: 4488.4422\n",
      "Epoch [30/100], Loss: 4318.8866\n",
      "Epoch [40/100], Loss: 4261.1888\n",
      "Epoch [50/100], Loss: 3682.4868\n",
      "Epoch [60/100], Loss: 3526.7702\n",
      "Epoch [70/100], Loss: 3382.3066\n",
      "Epoch [80/100], Loss: 3550.5671\n",
      "Epoch [90/100], Loss: 3007.9548\n"
     ]
    }
   ],
   "source": [
    "class EnergyNN(nn.Module):\n",
    "    def __init__(self, input_dim):\n",
    "        super(EnergyNN, self).__init__()\n",
    "        self.fc1 = nn.Linear(input_dim, 128)\n",
    "        self.fc2 = nn.Linear(128, 64)\n",
    "        self.fc3 = nn.Linear(64, 32)\n",
    "        self.output = nn.Linear(32, 1)\n",
    "        \n",
    "        self.relu = nn.ReLU()\n",
    "        self.dropout = nn.Dropout(0.2)\n",
    "\n",
    "    def forward(self, x):\n",
    "        x = self.relu(self.fc1(x))\n",
    "        x = self.dropout(x)\n",
    "        x = self.relu(self.fc2(x))\n",
    "        x = self.dropout(x)\n",
    "        x = self.relu(self.fc3(x))\n",
    "        x = self.output(x)\n",
    "        return x\n",
    "\n",
    "\n",
    "# Initialize model\n",
    "input_dim = X.shape[1]\n",
    "model = EnergyNN(input_dim)\n",
    "\n",
    "# Define loss & optimizer\n",
    "criterion = nn.MSELoss()\n",
    "optimizer = optim.Adam(model.parameters(), lr=0.001)\n",
    "\n",
    "# -------------- TRAINING LOOP --------------\n",
    "num_epochs = 100\n",
    "for epoch in range(num_epochs):\n",
    "    model.train()\n",
    "    running_loss = 0.0\n",
    "    for X_batch, y_batch in train_loader:\n",
    "        optimizer.zero_grad()\n",
    "        outputs = model(X_batch)\n",
    "        loss = criterion(outputs, y_batch)\n",
    "        loss.backward()\n",
    "        optimizer.step()\n",
    "        running_loss += loss.item()\n",
    "    \n",
    "    if epoch % 10 == 0:\n",
    "        print(f\"Epoch [{epoch}/{num_epochs}], Loss: {running_loss/len(train_loader):.4f}\")\n",
    "\n",
    "# -------------- EVALUATION --------------\n",
    "model.eval()\n",
    "predictions = []\n",
    "actuals = []\n",
    "with torch.no_grad():\n",
    "    for X_batch, y_batch in test_loader:\n",
    "        preds = model(X_batch)\n",
    "        predictions.append(preds.numpy())\n",
    "        actuals.append(y_batch.numpy())\n"
   ]
  },
  {
   "cell_type": "code",
   "execution_count": 9,
   "metadata": {},
   "outputs": [
    {
     "name": "stdout",
     "output_type": "stream",
     "text": [
      "\n",
      "Neural Network Metrics:\n",
      "MAE: 60.51\n",
      "RMSE: 106.18\n",
      "R² Score: 0.47\n"
     ]
    }
   ],
   "source": [
    "import numpy as np\n",
    "predictions = np.vstack(predictions)\n",
    "actuals = np.vstack(actuals)\n",
    "\n",
    "# Metrics\n",
    "from sklearn.metrics import mean_absolute_error, mean_squared_error, r2_score\n",
    "print(f\"\\nNeural Network Metrics:\")\n",
    "print(f\"MAE: {mean_absolute_error(actuals, predictions):.2f}\")\n",
    "print(f\"RMSE: {np.sqrt(mean_squared_error(actuals, predictions)):.2f}\")\n",
    "print(f\"R² Score: {r2_score(actuals, predictions):.2f}\")"
   ]
  },
  {
   "cell_type": "code",
   "execution_count": 12,
   "metadata": {},
   "outputs": [
    {
     "name": "stdout",
     "output_type": "stream",
     "text": [
      "Epoch [0/100], Loss: 7593.3335\n",
      "Epoch [10/100], Loss: 6229.1300\n",
      "Epoch [20/100], Loss: 5488.6887\n",
      "Epoch [30/100], Loss: 4907.3712\n",
      "Epoch [40/100], Loss: 4679.8902\n",
      "Epoch [50/100], Loss: 5433.5291\n",
      "Epoch [60/100], Loss: 3871.0614\n",
      "Epoch [70/100], Loss: 4485.9624\n",
      "Epoch [80/100], Loss: 4190.0930\n",
      "Epoch [90/100], Loss: 4361.8739\n"
     ]
    },
    {
     "data": {
      "text/plain": [
       "EnergyNN(\n",
       "  (fc1): Linear(in_features=14, out_features=128, bias=True)\n",
       "  (fc2): Linear(in_features=128, out_features=64, bias=True)\n",
       "  (fc3): Linear(in_features=64, out_features=32, bias=True)\n",
       "  (output): Linear(in_features=32, out_features=1, bias=True)\n",
       "  (relu): ReLU()\n",
       "  (dropout): Dropout(p=0.2, inplace=False)\n",
       ")"
      ]
     },
     "execution_count": 12,
     "metadata": {},
     "output_type": "execute_result"
    }
   ],
   "source": [
    "# Convert to PyTorch tensors\n",
    "X_tensor = torch.tensor(X, dtype=torch.float32)\n",
    "y_tensor = torch.tensor(y, dtype=torch.float32)\n",
    "\n",
    "# Create dataset\n",
    "dataset = TensorDataset(X_tensor, y_tensor)\n",
    "data_load = DataLoader(dataset, batch_size=64, shuffle=True)\n",
    "\n",
    "input_dim = X.shape[1]\n",
    "model = EnergyNN(input_dim)\n",
    "\n",
    "# Define loss & optimizer\n",
    "criterion = nn.MSELoss()\n",
    "optimizer = optim.Adam(model.parameters(), lr=0.001)\n",
    "\n",
    "# -------------- TRAINING LOOP --------------\n",
    "num_epochs = 100\n",
    "for epoch in range(num_epochs):\n",
    "    model.train()\n",
    "    running_loss = 0.0\n",
    "    for X_batch, y_batch in data_load:\n",
    "        optimizer.zero_grad()\n",
    "        outputs = model(X_batch)\n",
    "        loss = criterion(outputs, y_batch)\n",
    "        loss.backward()\n",
    "        optimizer.step()\n",
    "        running_loss += loss.item()\n",
    "    \n",
    "    if epoch % 10 == 0:\n",
    "        print(f\"Epoch [{epoch}/{num_epochs}], Loss: {running_loss/len(data_load):.4f}\")\n",
    "\n",
    "model.eval()\n"
   ]
  },
  {
   "cell_type": "code",
   "execution_count": 13,
   "metadata": {},
   "outputs": [
    {
     "name": "stdout",
     "output_type": "stream",
     "text": [
      "\n",
      "✅ All objects saved successfully!\n"
     ]
    }
   ],
   "source": [
    "\n",
    "import torch\n",
    "\n",
    "# Define filenames\n",
    "filepaths = {\n",
    "    \"neural_network\": \"models/nn_model.pth\"\n",
    "}\n",
    "\n",
    "\n",
    "\n",
    "# ---- Save Neural Network (PyTorch) ----\n",
    "torch.save(model.state_dict(), filepaths[\"neural_network\"])\n",
    "\n",
    "\n",
    "print(\"\\n✅ All objects saved successfully!\")\n"
   ]
  }
 ],
 "metadata": {
  "kernelspec": {
   "display_name": "Python 3",
   "language": "python",
   "name": "python3"
  },
  "language_info": {
   "codemirror_mode": {
    "name": "ipython",
    "version": 3
   },
   "file_extension": ".py",
   "mimetype": "text/x-python",
   "name": "python",
   "nbconvert_exporter": "python",
   "pygments_lexer": "ipython3",
   "version": "3.11.0"
  }
 },
 "nbformat": 4,
 "nbformat_minor": 2
}
